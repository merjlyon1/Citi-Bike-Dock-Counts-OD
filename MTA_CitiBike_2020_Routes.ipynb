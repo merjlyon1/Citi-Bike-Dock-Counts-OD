{
 "cells": [
  {
   "cell_type": "code",
   "execution_count": 1,
   "id": "divided-picnic",
   "metadata": {},
   "outputs": [],
   "source": [
    "import pandas as pd \n",
    "import seaborn as sns\n",
    "import matplotlib.pyplot as plt\n",
    "import numpy as np\n",
    "import statsmodels.api as sm\n",
    "from statsmodels.formula.api import ols\n",
    "from scipy import stats\n",
    "import folium\n",
    "import math"
   ]
  },
  {
   "cell_type": "code",
   "execution_count": 2,
   "id": "judicial-plasma",
   "metadata": {},
   "outputs": [],
   "source": [
    "# list of dates for the downloaded files\n",
    "lstDates = ['202001','202002','202003','202004','202005','202006','202007','202008','202009','202010','202011','202012']"
   ]
  },
  {
   "cell_type": "code",
   "execution_count": 3,
   "id": "written-decimal",
   "metadata": {},
   "outputs": [],
   "source": [
    "lstdf = []\n",
    "# a loop to read the monthly csv files \n",
    "for date in lstDates:\n",
    "    try:\n",
    "        # read each month's csv\n",
    "        pathname = r\"C:\\Users\\merjl\\OneDrive - CUNY\\Desktop\\CitiBikeFilesUrbanGIS\\2020\\{}-citibike-tripdata.csv\\{}-citibike-tripdata.csv\" .format(date,date)\n",
    "        # add (append) this to a list\n",
    "        lstdf.append(pd.read_csv(pathname))\n",
    "    except:\n",
    "        print('got an error for ',date)"
   ]
  },
  {
   "cell_type": "code",
   "execution_count": 4,
   "id": "guilty-opinion",
   "metadata": {},
   "outputs": [],
   "source": [
    "# put together all monthly dataframe and create one big dataframe\n",
    "dfall = pd.concat(lstdf)"
   ]
  },
  {
   "cell_type": "code",
   "execution_count": 5,
   "id": "figured-indicator",
   "metadata": {},
   "outputs": [
    {
     "data": {
      "text/html": [
       "<div>\n",
       "<style scoped>\n",
       "    .dataframe tbody tr th:only-of-type {\n",
       "        vertical-align: middle;\n",
       "    }\n",
       "\n",
       "    .dataframe tbody tr th {\n",
       "        vertical-align: top;\n",
       "    }\n",
       "\n",
       "    .dataframe thead th {\n",
       "        text-align: right;\n",
       "    }\n",
       "</style>\n",
       "<table border=\"1\" class=\"dataframe\">\n",
       "  <thead>\n",
       "    <tr style=\"text-align: right;\">\n",
       "      <th></th>\n",
       "      <th>tripduration</th>\n",
       "      <th>starttime</th>\n",
       "      <th>stoptime</th>\n",
       "      <th>start station id</th>\n",
       "      <th>start station name</th>\n",
       "      <th>start station latitude</th>\n",
       "      <th>start station longitude</th>\n",
       "      <th>end station id</th>\n",
       "      <th>end station name</th>\n",
       "      <th>end station latitude</th>\n",
       "      <th>end station longitude</th>\n",
       "      <th>bikeid</th>\n",
       "      <th>usertype</th>\n",
       "      <th>birth year</th>\n",
       "      <th>gender</th>\n",
       "    </tr>\n",
       "  </thead>\n",
       "  <tbody>\n",
       "    <tr>\n",
       "      <th>359099</th>\n",
       "      <td>2501</td>\n",
       "      <td>2020-06-08 14:15:16.6430</td>\n",
       "      <td>2020-06-08 14:56:57.9170</td>\n",
       "      <td>3043</td>\n",
       "      <td>Lewis Ave &amp; Decatur St</td>\n",
       "      <td>40.681460</td>\n",
       "      <td>-73.934903</td>\n",
       "      <td>363</td>\n",
       "      <td>West Thames St</td>\n",
       "      <td>40.708347</td>\n",
       "      <td>-74.017134</td>\n",
       "      <td>40826</td>\n",
       "      <td>Customer</td>\n",
       "      <td>1995</td>\n",
       "      <td>2</td>\n",
       "    </tr>\n",
       "    <tr>\n",
       "      <th>1352728</th>\n",
       "      <td>307</td>\n",
       "      <td>2020-11-22 15:07:57.5610</td>\n",
       "      <td>2020-11-22 15:13:05.1110</td>\n",
       "      <td>3164</td>\n",
       "      <td>Columbus Ave &amp; W 72 St</td>\n",
       "      <td>40.777057</td>\n",
       "      <td>-73.978985</td>\n",
       "      <td>3697</td>\n",
       "      <td>W 64 St &amp; Thelonious Monk Circle</td>\n",
       "      <td>40.775160</td>\n",
       "      <td>-73.989187</td>\n",
       "      <td>45559</td>\n",
       "      <td>Subscriber</td>\n",
       "      <td>1992</td>\n",
       "      <td>1</td>\n",
       "    </tr>\n",
       "    <tr>\n",
       "      <th>463291</th>\n",
       "      <td>2666</td>\n",
       "      <td>2020-08-07 15:52:30.0770</td>\n",
       "      <td>2020-08-07 16:36:56.5600</td>\n",
       "      <td>3165</td>\n",
       "      <td>Central Park West &amp; W 72 St</td>\n",
       "      <td>40.775794</td>\n",
       "      <td>-73.976206</td>\n",
       "      <td>3374</td>\n",
       "      <td>Central Park North &amp; Adam Clayton Powell Blvd</td>\n",
       "      <td>40.799484</td>\n",
       "      <td>-73.955613</td>\n",
       "      <td>45599</td>\n",
       "      <td>Subscriber</td>\n",
       "      <td>1977</td>\n",
       "      <td>1</td>\n",
       "    </tr>\n",
       "    <tr>\n",
       "      <th>1781225</th>\n",
       "      <td>759</td>\n",
       "      <td>2020-09-22 17:54:58.9540</td>\n",
       "      <td>2020-09-22 18:07:38.2250</td>\n",
       "      <td>499</td>\n",
       "      <td>Broadway &amp; W 60 St</td>\n",
       "      <td>40.769155</td>\n",
       "      <td>-73.981918</td>\n",
       "      <td>3287</td>\n",
       "      <td>W 87 St &amp; West End Ave</td>\n",
       "      <td>40.789622</td>\n",
       "      <td>-73.977570</td>\n",
       "      <td>33023</td>\n",
       "      <td>Subscriber</td>\n",
       "      <td>1984</td>\n",
       "      <td>1</td>\n",
       "    </tr>\n",
       "  </tbody>\n",
       "</table>\n",
       "</div>"
      ],
      "text/plain": [
       "         tripduration                 starttime                  stoptime  \\\n",
       "359099           2501  2020-06-08 14:15:16.6430  2020-06-08 14:56:57.9170   \n",
       "1352728           307  2020-11-22 15:07:57.5610  2020-11-22 15:13:05.1110   \n",
       "463291           2666  2020-08-07 15:52:30.0770  2020-08-07 16:36:56.5600   \n",
       "1781225           759  2020-09-22 17:54:58.9540  2020-09-22 18:07:38.2250   \n",
       "\n",
       "         start station id           start station name  \\\n",
       "359099               3043       Lewis Ave & Decatur St   \n",
       "1352728              3164       Columbus Ave & W 72 St   \n",
       "463291               3165  Central Park West & W 72 St   \n",
       "1781225               499           Broadway & W 60 St   \n",
       "\n",
       "         start station latitude  start station longitude  end station id  \\\n",
       "359099                40.681460               -73.934903             363   \n",
       "1352728               40.777057               -73.978985            3697   \n",
       "463291                40.775794               -73.976206            3374   \n",
       "1781225               40.769155               -73.981918            3287   \n",
       "\n",
       "                                      end station name  end station latitude  \\\n",
       "359099                                  West Thames St             40.708347   \n",
       "1352728               W 64 St & Thelonious Monk Circle             40.775160   \n",
       "463291   Central Park North & Adam Clayton Powell Blvd             40.799484   \n",
       "1781225                         W 87 St & West End Ave             40.789622   \n",
       "\n",
       "         end station longitude  bikeid    usertype  birth year  gender  \n",
       "359099              -74.017134   40826    Customer        1995       2  \n",
       "1352728             -73.989187   45559  Subscriber        1992       1  \n",
       "463291              -73.955613   45599  Subscriber        1977       1  \n",
       "1781225             -73.977570   33023  Subscriber        1984       1  "
      ]
     },
     "execution_count": 5,
     "metadata": {},
     "output_type": "execute_result"
    }
   ],
   "source": [
    "dfall.sample(4)"
   ]
  },
  {
   "cell_type": "code",
   "execution_count": 6,
   "id": "coastal-bulletin",
   "metadata": {},
   "outputs": [
    {
     "name": "stdout",
     "output_type": "stream",
     "text": [
      "<class 'pandas.core.frame.DataFrame'>\n",
      "Int64Index: 19506857 entries, 0 to 1088928\n",
      "Data columns (total 15 columns):\n",
      " #   Column                   Dtype  \n",
      "---  ------                   -----  \n",
      " 0   tripduration             int64  \n",
      " 1   starttime                object \n",
      " 2   stoptime                 object \n",
      " 3   start station id         int64  \n",
      " 4   start station name       object \n",
      " 5   start station latitude   float64\n",
      " 6   start station longitude  float64\n",
      " 7   end station id           int64  \n",
      " 8   end station name         object \n",
      " 9   end station latitude     float64\n",
      " 10  end station longitude    float64\n",
      " 11  bikeid                   int64  \n",
      " 12  usertype                 object \n",
      " 13  birth year               int64  \n",
      " 14  gender                   int64  \n",
      "dtypes: float64(4), int64(6), object(5)\n",
      "memory usage: 2.3+ GB\n"
     ]
    }
   ],
   "source": [
    "dfall.info(4)"
   ]
  },
  {
   "cell_type": "code",
   "execution_count": 7,
   "id": "going-witness",
   "metadata": {},
   "outputs": [],
   "source": [
    "#Remove extra columns\n",
    "dfselect = dfall.filter(['start station id','start station latitude','start station longitude', 'end station id', 'end station latitude', 'end station longitude'], axis=1)"
   ]
  },
  {
   "cell_type": "code",
   "execution_count": 8,
   "id": "coastal-airport",
   "metadata": {},
   "outputs": [
    {
     "name": "stdout",
     "output_type": "stream",
     "text": [
      "<class 'pandas.core.frame.DataFrame'>\n",
      "Int64Index: 19506857 entries, 0 to 1088928\n",
      "Data columns (total 6 columns):\n",
      " #   Column                   Dtype  \n",
      "---  ------                   -----  \n",
      " 0   start station id         int64  \n",
      " 1   start station latitude   float64\n",
      " 2   start station longitude  float64\n",
      " 3   end station id           int64  \n",
      " 4   end station latitude     float64\n",
      " 5   end station longitude    float64\n",
      "dtypes: float64(4), int64(2)\n",
      "memory usage: 1.0 GB\n"
     ]
    }
   ],
   "source": [
    "dfselect.info()"
   ]
  },
  {
   "cell_type": "code",
   "execution_count": 9,
   "id": "oriented-supply",
   "metadata": {},
   "outputs": [],
   "source": [
    "#Create a dataframe of only the end station id and start station id\n",
    "dfIDonly = dfselect.filter(['start station id','end station id'], axis =1)"
   ]
  },
  {
   "cell_type": "code",
   "execution_count": 10,
   "id": "dirty-canon",
   "metadata": {},
   "outputs": [
    {
     "name": "stdout",
     "output_type": "stream",
     "text": [
      "<class 'pandas.core.frame.DataFrame'>\n",
      "Int64Index: 19506857 entries, 0 to 1088928\n",
      "Data columns (total 2 columns):\n",
      " #   Column            Dtype\n",
      "---  ------            -----\n",
      " 0   start station id  int64\n",
      " 1   end station id    int64\n",
      "dtypes: int64(2)\n",
      "memory usage: 446.5 MB\n"
     ]
    }
   ],
   "source": [
    "dfIDonly.info()"
   ]
  },
  {
   "cell_type": "code",
   "execution_count": 11,
   "id": "careful-tunnel",
   "metadata": {},
   "outputs": [],
   "source": [
    "#Count how many times each combination of station id occurs into a new dataframe\n",
    "dfIDonly[\"count\"] = 1\n",
    "dfIDgroup = dfIDonly.groupby([\"start station id\", \"end station id\"])[\"count\"].count().reset_index()"
   ]
  },
  {
   "cell_type": "code",
   "execution_count": 12,
   "id": "religious-murder",
   "metadata": {},
   "outputs": [
    {
     "data": {
      "text/html": [
       "<div>\n",
       "<style scoped>\n",
       "    .dataframe tbody tr th:only-of-type {\n",
       "        vertical-align: middle;\n",
       "    }\n",
       "\n",
       "    .dataframe tbody tr th {\n",
       "        vertical-align: top;\n",
       "    }\n",
       "\n",
       "    .dataframe thead th {\n",
       "        text-align: right;\n",
       "    }\n",
       "</style>\n",
       "<table border=\"1\" class=\"dataframe\">\n",
       "  <thead>\n",
       "    <tr style=\"text-align: right;\">\n",
       "      <th></th>\n",
       "      <th>start station id</th>\n",
       "      <th>end station id</th>\n",
       "      <th>count</th>\n",
       "    </tr>\n",
       "  </thead>\n",
       "  <tbody>\n",
       "    <tr>\n",
       "      <th>99682</th>\n",
       "      <td>391</td>\n",
       "      <td>278</td>\n",
       "      <td>109</td>\n",
       "    </tr>\n",
       "    <tr>\n",
       "      <th>224556</th>\n",
       "      <td>3093</td>\n",
       "      <td>3641</td>\n",
       "      <td>6</td>\n",
       "    </tr>\n",
       "    <tr>\n",
       "      <th>448432</th>\n",
       "      <td>3709</td>\n",
       "      <td>3424</td>\n",
       "      <td>38</td>\n",
       "    </tr>\n",
       "    <tr>\n",
       "      <th>70611</th>\n",
       "      <td>334</td>\n",
       "      <td>3690</td>\n",
       "      <td>41</td>\n",
       "    </tr>\n",
       "    <tr>\n",
       "      <th>461273</th>\n",
       "      <td>3737</td>\n",
       "      <td>3820</td>\n",
       "      <td>4</td>\n",
       "    </tr>\n",
       "    <tr>\n",
       "      <th>602540</th>\n",
       "      <td>4232</td>\n",
       "      <td>3314</td>\n",
       "      <td>8</td>\n",
       "    </tr>\n",
       "    <tr>\n",
       "      <th>182639</th>\n",
       "      <td>533</td>\n",
       "      <td>372</td>\n",
       "      <td>1</td>\n",
       "    </tr>\n",
       "    <tr>\n",
       "      <th>249546</th>\n",
       "      <td>3141</td>\n",
       "      <td>3335</td>\n",
       "      <td>3</td>\n",
       "    </tr>\n",
       "    <tr>\n",
       "      <th>429960</th>\n",
       "      <td>3630</td>\n",
       "      <td>4120</td>\n",
       "      <td>1</td>\n",
       "    </tr>\n",
       "    <tr>\n",
       "      <th>4419</th>\n",
       "      <td>127</td>\n",
       "      <td>376</td>\n",
       "      <td>51</td>\n",
       "    </tr>\n",
       "    <tr>\n",
       "      <th>287239</th>\n",
       "      <td>3286</td>\n",
       "      <td>4124</td>\n",
       "      <td>34</td>\n",
       "    </tr>\n",
       "    <tr>\n",
       "      <th>247550</th>\n",
       "      <td>3137</td>\n",
       "      <td>3918</td>\n",
       "      <td>6</td>\n",
       "    </tr>\n",
       "    <tr>\n",
       "      <th>5923</th>\n",
       "      <td>143</td>\n",
       "      <td>274</td>\n",
       "      <td>45</td>\n",
       "    </tr>\n",
       "    <tr>\n",
       "      <th>598844</th>\n",
       "      <td>4193</td>\n",
       "      <td>4014</td>\n",
       "      <td>45</td>\n",
       "    </tr>\n",
       "    <tr>\n",
       "      <th>161854</th>\n",
       "      <td>499</td>\n",
       "      <td>150</td>\n",
       "      <td>8</td>\n",
       "    </tr>\n",
       "    <tr>\n",
       "      <th>224911</th>\n",
       "      <td>3094</td>\n",
       "      <td>412</td>\n",
       "      <td>3</td>\n",
       "    </tr>\n",
       "    <tr>\n",
       "      <th>10464</th>\n",
       "      <td>157</td>\n",
       "      <td>4122</td>\n",
       "      <td>2</td>\n",
       "    </tr>\n",
       "    <tr>\n",
       "      <th>176443</th>\n",
       "      <td>522</td>\n",
       "      <td>3936</td>\n",
       "      <td>3</td>\n",
       "    </tr>\n",
       "    <tr>\n",
       "      <th>128178</th>\n",
       "      <td>446</td>\n",
       "      <td>3935</td>\n",
       "      <td>5</td>\n",
       "    </tr>\n",
       "    <tr>\n",
       "      <th>370227</th>\n",
       "      <td>3493</td>\n",
       "      <td>505</td>\n",
       "      <td>5</td>\n",
       "    </tr>\n",
       "  </tbody>\n",
       "</table>\n",
       "</div>"
      ],
      "text/plain": [
       "        start station id  end station id  count\n",
       "99682                391             278    109\n",
       "224556              3093            3641      6\n",
       "448432              3709            3424     38\n",
       "70611                334            3690     41\n",
       "461273              3737            3820      4\n",
       "602540              4232            3314      8\n",
       "182639               533             372      1\n",
       "249546              3141            3335      3\n",
       "429960              3630            4120      1\n",
       "4419                 127             376     51\n",
       "287239              3286            4124     34\n",
       "247550              3137            3918      6\n",
       "5923                 143             274     45\n",
       "598844              4193            4014     45\n",
       "161854               499             150      8\n",
       "224911              3094             412      3\n",
       "10464                157            4122      2\n",
       "176443               522            3936      3\n",
       "128178               446            3935      5\n",
       "370227              3493             505      5"
      ]
     },
     "execution_count": 12,
     "metadata": {},
     "output_type": "execute_result"
    }
   ],
   "source": [
    "dfIDgroup.sample(20)"
   ]
  },
  {
   "cell_type": "code",
   "execution_count": 13,
   "id": "overall-violence",
   "metadata": {},
   "outputs": [
    {
     "name": "stdout",
     "output_type": "stream",
     "text": [
      "<class 'pandas.core.frame.DataFrame'>\n",
      "RangeIndex: 604217 entries, 0 to 604216\n",
      "Data columns (total 3 columns):\n",
      " #   Column            Non-Null Count   Dtype\n",
      "---  ------            --------------   -----\n",
      " 0   start station id  604217 non-null  int64\n",
      " 1   end station id    604217 non-null  int64\n",
      " 2   count             604217 non-null  int64\n",
      "dtypes: int64(3)\n",
      "memory usage: 13.8 MB\n"
     ]
    }
   ],
   "source": [
    "dfIDgroup.info()"
   ]
  },
  {
   "cell_type": "code",
   "execution_count": 14,
   "id": "broken-ukraine",
   "metadata": {},
   "outputs": [
    {
     "data": {
      "text/plain": [
       "start station id    1542403547\n",
       "end station id      1547388159\n",
       "count                 19506857\n",
       "dtype: int64"
      ]
     },
     "execution_count": 14,
     "metadata": {},
     "output_type": "execute_result"
    }
   ],
   "source": [
    "dfIDgroup.sum()"
   ]
  },
  {
   "cell_type": "code",
   "execution_count": 15,
   "id": "friendly-rider",
   "metadata": {},
   "outputs": [],
   "source": [
    "#Create a separate  dataframe of the start id and coordinates from the full dataframe\n",
    "dfStarts = (dfall[['start station id','start station latitude','start station longitude']]).groupby(['start station id']).agg({'start station latitude':['first'],'start station longitude':['first']})"
   ]
  },
  {
   "cell_type": "code",
   "execution_count": 16,
   "id": "south-separate",
   "metadata": {},
   "outputs": [],
   "source": [
    "dfStarts = dfStarts.droplevel(1,axis=1).reset_index()"
   ]
  },
  {
   "cell_type": "code",
   "execution_count": 17,
   "id": "basic-argentina",
   "metadata": {},
   "outputs": [],
   "source": [
    "dfStarts = pd.DataFrame(dfStarts)"
   ]
  },
  {
   "cell_type": "code",
   "execution_count": 18,
   "id": "normal-queen",
   "metadata": {},
   "outputs": [
    {
     "name": "stdout",
     "output_type": "stream",
     "text": [
      "<class 'pandas.core.frame.DataFrame'>\n",
      "RangeIndex: 1213 entries, 0 to 1212\n",
      "Data columns (total 3 columns):\n",
      " #   Column                   Non-Null Count  Dtype  \n",
      "---  ------                   --------------  -----  \n",
      " 0   start station id         1213 non-null   int64  \n",
      " 1   start station latitude   1213 non-null   float64\n",
      " 2   start station longitude  1213 non-null   float64\n",
      "dtypes: float64(2), int64(1)\n",
      "memory usage: 28.6 KB\n"
     ]
    }
   ],
   "source": [
    "dfStarts.info()"
   ]
  },
  {
   "cell_type": "code",
   "execution_count": 19,
   "id": "compressed-stack",
   "metadata": {},
   "outputs": [],
   "source": [
    "#index match thw two dataframes with the start station id to create a dataframe that contains the corosponding start coordinates \n",
    "dfstertsmerged= dfIDgroup.merge(dfStarts,how='left',on='start station id')"
   ]
  },
  {
   "cell_type": "code",
   "execution_count": 20,
   "id": "handed-mission",
   "metadata": {},
   "outputs": [
    {
     "name": "stdout",
     "output_type": "stream",
     "text": [
      "<class 'pandas.core.frame.DataFrame'>\n",
      "Int64Index: 604217 entries, 0 to 604216\n",
      "Data columns (total 5 columns):\n",
      " #   Column                   Non-Null Count   Dtype  \n",
      "---  ------                   --------------   -----  \n",
      " 0   start station id         604217 non-null  int64  \n",
      " 1   end station id           604217 non-null  int64  \n",
      " 2   count                    604217 non-null  int64  \n",
      " 3   start station latitude   604217 non-null  float64\n",
      " 4   start station longitude  604217 non-null  float64\n",
      "dtypes: float64(2), int64(3)\n",
      "memory usage: 27.7 MB\n"
     ]
    }
   ],
   "source": [
    "dfstertsmerged.info()"
   ]
  },
  {
   "cell_type": "code",
   "execution_count": 21,
   "id": "useful-absorption",
   "metadata": {},
   "outputs": [
    {
     "data": {
      "text/html": [
       "<div>\n",
       "<style scoped>\n",
       "    .dataframe tbody tr th:only-of-type {\n",
       "        vertical-align: middle;\n",
       "    }\n",
       "\n",
       "    .dataframe tbody tr th {\n",
       "        vertical-align: top;\n",
       "    }\n",
       "\n",
       "    .dataframe thead th {\n",
       "        text-align: right;\n",
       "    }\n",
       "</style>\n",
       "<table border=\"1\" class=\"dataframe\">\n",
       "  <thead>\n",
       "    <tr style=\"text-align: right;\">\n",
       "      <th></th>\n",
       "      <th>start station id</th>\n",
       "      <th>end station id</th>\n",
       "      <th>count</th>\n",
       "      <th>start station latitude</th>\n",
       "      <th>start station longitude</th>\n",
       "    </tr>\n",
       "  </thead>\n",
       "  <tbody>\n",
       "    <tr>\n",
       "      <th>61284</th>\n",
       "      <td>317</td>\n",
       "      <td>3572</td>\n",
       "      <td>3</td>\n",
       "      <td>40.724537</td>\n",
       "      <td>-73.981854</td>\n",
       "    </tr>\n",
       "    <tr>\n",
       "      <th>58091</th>\n",
       "      <td>312</td>\n",
       "      <td>2017</td>\n",
       "      <td>27</td>\n",
       "      <td>40.722055</td>\n",
       "      <td>-73.989111</td>\n",
       "    </tr>\n",
       "    <tr>\n",
       "      <th>440749</th>\n",
       "      <td>3686</td>\n",
       "      <td>280</td>\n",
       "      <td>149</td>\n",
       "      <td>40.739448</td>\n",
       "      <td>-74.005070</td>\n",
       "    </tr>\n",
       "    <tr>\n",
       "      <th>376349</th>\n",
       "      <td>3505</td>\n",
       "      <td>3387</td>\n",
       "      <td>16</td>\n",
       "      <td>40.805726</td>\n",
       "      <td>-73.936322</td>\n",
       "    </tr>\n",
       "    <tr>\n",
       "      <th>2204</th>\n",
       "      <td>83</td>\n",
       "      <td>3315</td>\n",
       "      <td>31</td>\n",
       "      <td>40.683826</td>\n",
       "      <td>-73.976323</td>\n",
       "    </tr>\n",
       "    <tr>\n",
       "      <th>58166</th>\n",
       "      <td>312</td>\n",
       "      <td>3128</td>\n",
       "      <td>1</td>\n",
       "      <td>40.722055</td>\n",
       "      <td>-73.989111</td>\n",
       "    </tr>\n",
       "    <tr>\n",
       "      <th>602919</th>\n",
       "      <td>4236</td>\n",
       "      <td>146</td>\n",
       "      <td>2</td>\n",
       "      <td>40.768333</td>\n",
       "      <td>-73.992573</td>\n",
       "    </tr>\n",
       "    <tr>\n",
       "      <th>102068</th>\n",
       "      <td>394</td>\n",
       "      <td>3087</td>\n",
       "      <td>9</td>\n",
       "      <td>40.725213</td>\n",
       "      <td>-73.977688</td>\n",
       "    </tr>\n",
       "    <tr>\n",
       "      <th>94429</th>\n",
       "      <td>380</td>\n",
       "      <td>4070</td>\n",
       "      <td>2</td>\n",
       "      <td>40.734011</td>\n",
       "      <td>-74.002939</td>\n",
       "    </tr>\n",
       "    <tr>\n",
       "      <th>532069</th>\n",
       "      <td>3913</td>\n",
       "      <td>3578</td>\n",
       "      <td>6</td>\n",
       "      <td>40.699569</td>\n",
       "      <td>-73.979827</td>\n",
       "    </tr>\n",
       "  </tbody>\n",
       "</table>\n",
       "</div>"
      ],
      "text/plain": [
       "        start station id  end station id  count  start station latitude  \\\n",
       "61284                317            3572      3               40.724537   \n",
       "58091                312            2017     27               40.722055   \n",
       "440749              3686             280    149               40.739448   \n",
       "376349              3505            3387     16               40.805726   \n",
       "2204                  83            3315     31               40.683826   \n",
       "58166                312            3128      1               40.722055   \n",
       "602919              4236             146      2               40.768333   \n",
       "102068               394            3087      9               40.725213   \n",
       "94429                380            4070      2               40.734011   \n",
       "532069              3913            3578      6               40.699569   \n",
       "\n",
       "        start station longitude  \n",
       "61284                -73.981854  \n",
       "58091                -73.989111  \n",
       "440749               -74.005070  \n",
       "376349               -73.936322  \n",
       "2204                 -73.976323  \n",
       "58166                -73.989111  \n",
       "602919               -73.992573  \n",
       "102068               -73.977688  \n",
       "94429                -74.002939  \n",
       "532069               -73.979827  "
      ]
     },
     "execution_count": 21,
     "metadata": {},
     "output_type": "execute_result"
    }
   ],
   "source": [
    "dfstertsmerged.sample(10)"
   ]
  },
  {
   "cell_type": "code",
   "execution_count": 22,
   "id": "instrumental-documentation",
   "metadata": {},
   "outputs": [],
   "source": [
    "#Create a separate  dataframe of the end id and coordinates from the full dataframe\n",
    "dfEnds = (dfall[['end station id','end station latitude','end station longitude']]).groupby(['end station id']).agg({'end station latitude':['first'],'end station longitude':['first']})"
   ]
  },
  {
   "cell_type": "code",
   "execution_count": 23,
   "id": "indie-turkish",
   "metadata": {},
   "outputs": [],
   "source": [
    "dfEnds = dfEnds.droplevel(1,axis=1).reset_index()"
   ]
  },
  {
   "cell_type": "code",
   "execution_count": 24,
   "id": "hundred-cooperation",
   "metadata": {},
   "outputs": [],
   "source": [
    "dfEnds = pd.DataFrame(dfEnds)"
   ]
  },
  {
   "cell_type": "code",
   "execution_count": 25,
   "id": "smaller-document",
   "metadata": {},
   "outputs": [],
   "source": [
    "#index match thw two dataframes with the start end station id to create a dataframe that contains the corosponding end coordinates \n",
    "dfTotalsmergedRoutes2019= dfstertsmerged.merge(dfEnds,how='left',on='end station id')"
   ]
  },
  {
   "cell_type": "code",
   "execution_count": 83,
   "id": "backed-section",
   "metadata": {},
   "outputs": [
    {
     "data": {
      "text/html": [
       "<div>\n",
       "<style scoped>\n",
       "    .dataframe tbody tr th:only-of-type {\n",
       "        vertical-align: middle;\n",
       "    }\n",
       "\n",
       "    .dataframe tbody tr th {\n",
       "        vertical-align: top;\n",
       "    }\n",
       "\n",
       "    .dataframe thead th {\n",
       "        text-align: right;\n",
       "    }\n",
       "</style>\n",
       "<table border=\"1\" class=\"dataframe\">\n",
       "  <thead>\n",
       "    <tr style=\"text-align: right;\">\n",
       "      <th></th>\n",
       "      <th>start station id</th>\n",
       "      <th>end station id</th>\n",
       "      <th>count</th>\n",
       "      <th>start station latitude</th>\n",
       "      <th>start station longitude</th>\n",
       "      <th>end station latitude</th>\n",
       "      <th>end station longitude</th>\n",
       "    </tr>\n",
       "  </thead>\n",
       "  <tbody>\n",
       "    <tr>\n",
       "      <th>206174</th>\n",
       "      <td>3137.0</td>\n",
       "      <td>377.0</td>\n",
       "      <td>15</td>\n",
       "      <td>40.772828</td>\n",
       "      <td>-73.966853</td>\n",
       "      <td>40.722438</td>\n",
       "      <td>-74.005664</td>\n",
       "    </tr>\n",
       "  </tbody>\n",
       "</table>\n",
       "</div>"
      ],
      "text/plain": [
       "        start station id  end station id  count  start station latitude  \\\n",
       "206174            3137.0           377.0     15               40.772828   \n",
       "\n",
       "        start station longitude  end station latitude  end station longitude  \n",
       "206174               -73.966853             40.722438             -74.005664  "
      ]
     },
     "execution_count": 83,
     "metadata": {},
     "output_type": "execute_result"
    }
   ],
   "source": [
    "# the end results is a dataframe that contains the count of\n",
    "dfTotalsmergedRoutes2019.sample()"
   ]
  },
  {
   "cell_type": "code",
   "execution_count": 25,
   "id": "featured-issue",
   "metadata": {},
   "outputs": [],
   "source": [
    "dfTotalsmergedRoutes2019.to_csv(r'C:\\Users\\merjl\\OneDrive - CUNY\\Desktop\\CitiBikeFilesUrbanGIS\\2020Routes.csv', index = False)"
   ]
  },
  {
   "cell_type": "code",
   "execution_count": null,
   "id": "fabulous-separate",
   "metadata": {},
   "outputs": [],
   "source": []
  },
  {
   "cell_type": "code",
   "execution_count": null,
   "id": "thermal-bahamas",
   "metadata": {},
   "outputs": [],
   "source": []
  },
  {
   "cell_type": "code",
   "execution_count": null,
   "id": "smaller-merit",
   "metadata": {},
   "outputs": [],
   "source": []
  },
  {
   "cell_type": "code",
   "execution_count": null,
   "id": "renewable-ghost",
   "metadata": {},
   "outputs": [],
   "source": []
  },
  {
   "cell_type": "code",
   "execution_count": null,
   "id": "constitutional-balance",
   "metadata": {},
   "outputs": [],
   "source": []
  },
  {
   "cell_type": "code",
   "execution_count": null,
   "id": "earlier-breath",
   "metadata": {},
   "outputs": [],
   "source": []
  },
  {
   "cell_type": "code",
   "execution_count": null,
   "id": "naval-permit",
   "metadata": {},
   "outputs": [],
   "source": []
  },
  {
   "cell_type": "code",
   "execution_count": null,
   "id": "aging-tenant",
   "metadata": {},
   "outputs": [],
   "source": []
  },
  {
   "cell_type": "code",
   "execution_count": null,
   "id": "indirect-massachusetts",
   "metadata": {},
   "outputs": [],
   "source": []
  },
  {
   "cell_type": "code",
   "execution_count": null,
   "id": "every-circle",
   "metadata": {},
   "outputs": [],
   "source": []
  },
  {
   "cell_type": "code",
   "execution_count": null,
   "id": "unable-dance",
   "metadata": {},
   "outputs": [],
   "source": []
  },
  {
   "cell_type": "code",
   "execution_count": null,
   "id": "indian-stone",
   "metadata": {},
   "outputs": [],
   "source": []
  }
 ],
 "metadata": {
  "kernelspec": {
   "display_name": "Python 3",
   "language": "python",
   "name": "python3"
  },
  "language_info": {
   "codemirror_mode": {
    "name": "ipython",
    "version": 3
   },
   "file_extension": ".py",
   "mimetype": "text/x-python",
   "name": "python",
   "nbconvert_exporter": "python",
   "pygments_lexer": "ipython3",
   "version": "3.7.9"
  }
 },
 "nbformat": 4,
 "nbformat_minor": 5
}
